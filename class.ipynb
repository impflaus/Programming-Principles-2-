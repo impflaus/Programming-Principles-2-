{
 "cells": [
  {
   "cell_type": "code",
   "execution_count": 4,
   "id": "f7460c51-4fd0-474e-a956-4c5ac4349bd5",
   "metadata": {},
   "outputs": [],
   "source": [
    "#Class"
   ]
  },
  {
   "cell_type": "code",
   "execution_count": 10,
   "id": "3a33dfaa-d023-45fb-99e0-12cd42eeff37",
   "metadata": {},
   "outputs": [
    {
     "name": "stdin",
     "output_type": "stream",
     "text": [
      "Enter a string:  he\n"
     ]
    },
    {
     "name": "stdout",
     "output_type": "stream",
     "text": [
      "HE\n"
     ]
    }
   ],
   "source": [
    "class StringManipulator:\n",
    "    def __init__(self):\n",
    "        self.user_string = \"\"\n",
    "    \n",
    "    def getString(self):\n",
    "        self.user_string = input(\"Enter a string: \")\n",
    "    \n",
    "    def printString(self):\n",
    "        print(self.user_string.upper())\n",
    "\n",
    "if __name__ == \"__main__\":\n",
    "    obj = StringManipulator()\n",
    "    obj.getString()\n",
    "    obj.printString()"
   ]
  },
  {
   "cell_type": "code",
   "execution_count": 16,
   "id": "04141c67-38b3-48d0-9c21-27dbd698feb3",
   "metadata": {},
   "outputs": [
    {
     "name": "stdin",
     "output_type": "stream",
     "text": [
      "Enter the lenght:  4\n"
     ]
    },
    {
     "name": "stdout",
     "output_type": "stream",
     "text": [
      "16\n"
     ]
    }
   ],
   "source": [
    "class Shape:\n",
    "    def area(self):\n",
    "        return 0\n",
    "\n",
    "class Square(Shape):\n",
    "    def __init__(self, length):\n",
    "        self.length = length\n",
    "\n",
    "    def area(self):\n",
    "        return self.length * self.length\n",
    "\n",
    "square = Square(int(input(\"Enter the lenght: \")))\n",
    "print(square.area())  "
   ]
  },
  {
   "cell_type": "code",
   "execution_count": 18,
   "id": "64f6a2e8-3fad-4ba0-9d44-ea3bea4bbeef",
   "metadata": {},
   "outputs": [
    {
     "name": "stdin",
     "output_type": "stream",
     "text": [
      "Enter length:  4\n",
      "Enter width:  4\n"
     ]
    },
    {
     "name": "stdout",
     "output_type": "stream",
     "text": [
      "Area of the rectangle: 16.0\n"
     ]
    }
   ],
   "source": [
    "class Shape:\n",
    "    def area(self):\n",
    "        return 0\n",
    "\n",
    "class Rectangle(Shape):\n",
    "    def __init__(self):\n",
    "        self.length = float(input(\"Enter length: \"))\n",
    "        self.width = float(input(\"Enter width: \"))\n",
    "\n",
    "    def area(self):\n",
    "        return self.length * self.width\n",
    "\n",
    "rectangle = Rectangle()\n",
    "print(\"Area of the rectangle:\", rectangle.area())\n"
   ]
  },
  {
   "cell_type": "code",
   "execution_count": 20,
   "id": "c037fb94-666c-41a3-83c0-4609bd16a3aa",
   "metadata": {},
   "outputs": [
    {
     "name": "stdout",
     "output_type": "stream",
     "text": [
      "Enter coordinates for Point 1:\n"
     ]
    },
    {
     "name": "stdin",
     "output_type": "stream",
     "text": [
      "Enter x coordinate:  4\n",
      "Enter y coordinate:  2\n"
     ]
    },
    {
     "name": "stdout",
     "output_type": "stream",
     "text": [
      "Enter coordinates for Point 2:\n"
     ]
    },
    {
     "name": "stdin",
     "output_type": "stream",
     "text": [
      "Enter x coordinate:  8\n",
      "Enter y coordinate:  12\n"
     ]
    },
    {
     "name": "stdout",
     "output_type": "stream",
     "text": [
      "Point coordinates: (4.0, 2.0)\n"
     ]
    },
    {
     "name": "stdin",
     "output_type": "stream",
     "text": [
      "Enter new x coordinate:  124\n",
      "Enter new y coordinate:  12\n"
     ]
    },
    {
     "name": "stdout",
     "output_type": "stream",
     "text": [
      "Point coordinates: (124.0, 12.0)\n",
      "Distance: 116.0\n"
     ]
    }
   ],
   "source": [
    "import math\n",
    "\n",
    "class Point:\n",
    "    def __init__(self):\n",
    "        self.x = float(input(\"Enter x coordinate: \"))\n",
    "        self.y = float(input(\"Enter y coordinate: \"))\n",
    "\n",
    "    def show(self):\n",
    "        print(f\"Point coordinates: ({self.x}, {self.y})\")\n",
    "\n",
    "    def move(self):\n",
    "        self.x = float(input(\"Enter new x coordinate: \"))\n",
    "        self.y = float(input(\"Enter new y coordinate: \"))\n",
    "\n",
    "    def dist(self, other_point):\n",
    "        return math.sqrt((self.x - other_point.x) ** 2 + (self.y - other_point.y) ** 2)\n",
    "\n",
    "print(\"Enter coordinates for Point 1:\")\n",
    "p1 = Point()\n",
    "print(\"Enter coordinates for Point 2:\")\n",
    "p2 = Point()\n",
    "p1.show()\n",
    "p1.move()\n",
    "p1.show()\n",
    "print(\"Distance:\", p1.dist(p2))\n"
   ]
  },
  {
   "cell_type": "raw",
   "id": "81b51a0d-aa73-4e7b-afbf-5a51282b4e07",
   "metadata": {},
   "source": []
  },
  {
   "cell_type": "code",
   "execution_count": 30,
   "id": "e753fe86-ea11-46c4-96aa-679a87f8bb3e",
   "metadata": {},
   "outputs": [
    {
     "name": "stdin",
     "output_type": "stream",
     "text": [
      "Enter account owner's name:  Dauren\n"
     ]
    },
    {
     "name": "stdout",
     "output_type": "stream",
     "text": [
      "Account owner: Dauren, Balance: 0\n"
     ]
    },
    {
     "name": "stdin",
     "output_type": "stream",
     "text": [
      "Enter deposit amount:  1234124\n"
     ]
    },
    {
     "name": "stdout",
     "output_type": "stream",
     "text": [
      "Deposited 1234124.0. New balance: 1234124.0\n"
     ]
    },
    {
     "name": "stdin",
     "output_type": "stream",
     "text": [
      "Enter withdrawal amount:  124\n"
     ]
    },
    {
     "name": "stdout",
     "output_type": "stream",
     "text": [
      "Withdrawn 124.0. New balance: 1234000.0\n"
     ]
    }
   ],
   "source": [
    "class Account:\n",
    "    def __init__(self, owner, balance=0):\n",
    "        self.owner = owner\n",
    "        self.balance = balance\n",
    "    \n",
    "    def deposit(self):\n",
    "        amount = float(input(\"Enter deposit amount: \"))\n",
    "        if amount > 0:\n",
    "            self.balance += amount\n",
    "            print(f\"Deposited {amount}. New balance: {self.balance}\")\n",
    "        else:\n",
    "            print(\"Deposit amount must be positive.\")\n",
    "    \n",
    "    def withdraw(self):\n",
    "        amount = float(input(\"Enter withdrawal amount: \"))\n",
    "        if 0 < amount <= self.balance:\n",
    "            self.balance -= amount\n",
    "            print(f\"Withdrawn {amount}. New balance: {self.balance}\")\n",
    "        else:\n",
    "            print(\"Insufficient funds or invalid amount.\")\n",
    "    \n",
    "    def show_balance(self):\n",
    "        print(f\"Account owner: {self.owner}, Balance: {self.balance}\")\n",
    "\n",
    "owner_name = input(\"Enter account owner's name: \")\n",
    "account = Account(owner_name)\n",
    "account.show_balance()\n",
    "account.deposit()\n",
    "account.withdraw()\n"
   ]
  },
  {
   "cell_type": "code",
   "execution_count": 36,
   "id": "23541187-4f55-47c4-a474-7bf292a5d705",
   "metadata": {},
   "outputs": [
    {
     "name": "stdin",
     "output_type": "stream",
     "text": [
      "Enter numbers:  4 5 7 11 13 17 19\n"
     ]
    },
    {
     "name": "stdout",
     "output_type": "stream",
     "text": [
      "Prime numbers: [5, 7, 11, 13, 17, 19]\n"
     ]
    }
   ],
   "source": [
    "def is_prime(n):\n",
    "    if n < 2:\n",
    "        return False\n",
    "    for i in range(2, int(n ** 0.5) + 1):\n",
    "        if n % i == 0:\n",
    "            return False\n",
    "    return True\n",
    "\n",
    "numbers = list(map(int, input(\"Enter numbers: \").split()))\n",
    "\n",
    "prime_numbers = list(filter(lambda x: is_prime(x), numbers))\n",
    "\n",
    "print(\"Prime numbers:\", prime_numbers)\n"
   ]
  },
  {
   "cell_type": "code",
   "execution_count": null,
   "id": "89058cf4-d6de-4650-ab5c-1dcf4d5f80f8",
   "metadata": {},
   "outputs": [],
   "source": []
  }
 ],
 "metadata": {
  "kernelspec": {
   "display_name": "Python [conda env:base] *",
   "language": "python",
   "name": "conda-base-py"
  },
  "language_info": {
   "codemirror_mode": {
    "name": "ipython",
    "version": 3
   },
   "file_extension": ".py",
   "mimetype": "text/x-python",
   "name": "python",
   "nbconvert_exporter": "python",
   "pygments_lexer": "ipython3",
   "version": "3.12.7"
  }
 },
 "nbformat": 4,
 "nbformat_minor": 5
}
