{
 "cells": [
  {
   "cell_type": "code",
   "execution_count": 32,
   "id": "5859cb09-b6a0-44ff-bea8-b8e0054b75ad",
   "metadata": {},
   "outputs": [],
   "source": [
    "#Functions 1"
   ]
  },
  {
   "cell_type": "code",
   "execution_count": 30,
   "id": "816dbe20-eb9f-4cd1-9898-d8bcd3b02478",
   "metadata": {},
   "outputs": [
    {
     "name": "stdin",
     "output_type": "stream",
     "text": [
      "Enter grams:  100\n"
     ]
    },
    {
     "name": "stdout",
     "output_type": "stream",
     "text": [
      "2834.95\n"
     ]
    }
   ],
   "source": [
    "grams = int(input(\"Enter grams: \"))\n",
    "\n",
    "def convertor(grams):\n",
    "    ounces = 28.3495231 * grams\n",
    "    print(f\"{ounces:.2f}\")\n",
    "\n",
    "convertor(grams)"
   ]
  },
  {
   "cell_type": "code",
   "execution_count": 46,
   "id": "ba9a13c1-7128-4260-a9bb-41175550a94e",
   "metadata": {},
   "outputs": [
    {
     "name": "stdin",
     "output_type": "stream",
     "text": [
      "Enter the temperature:  411\n"
     ]
    },
    {
     "data": {
      "text/plain": [
       "'210.56'"
      ]
     },
     "execution_count": 46,
     "metadata": {},
     "output_type": "execute_result"
    }
   ],
   "source": [
    "F = int(input(\"Enter the temperature: \"))\n",
    "\n",
    "def CelciumConvertor():\n",
    "    C = (5 / 9) * (F - 32)\n",
    "    return (f\"{C:.2f}\")\n",
    "\n",
    "CelciumConvertor()"
   ]
  },
  {
   "cell_type": "code",
   "execution_count": 50,
   "id": "9639a7c1-27b0-4391-96f6-5e125769c270",
   "metadata": {},
   "outputs": [
    {
     "name": "stdout",
     "output_type": "stream",
     "text": [
      "Chickens: 23, Rabbits: 12\n"
     ]
    }
   ],
   "source": [
    "def solve(numheads, numlegs):\n",
    "    for chickens in range(numheads + 1):\n",
    "        rabbits = numheads - chickens\n",
    "        if (chickens * 2 + rabbits * 4) == numlegs:\n",
    "            return chickens, rabbits\n",
    "    return None, None\n",
    "\n",
    "num_heads = 35\n",
    "num_legs = 94\n",
    "chickens, rabbits = solve(num_heads, num_legs)\n",
    "print(f\"Chickens: {chickens}, Rabbits: {rabbits}\")"
   ]
  },
  {
   "cell_type": "code",
   "execution_count": 56,
   "id": "c50eabb9-0258-489d-af45-dd73e9c2e254",
   "metadata": {},
   "outputs": [
    {
     "name": "stdin",
     "output_type": "stream",
     "text": [
      "Enter numbers:  3 5 7 9\n"
     ]
    },
    {
     "name": "stdout",
     "output_type": "stream",
     "text": [
      "Prime numbers: [3, 5, 7]\n"
     ]
    }
   ],
   "source": [
    "def is_prime(n):\n",
    "    if n < 2:\n",
    "        return False\n",
    "    for i in range(2, int(n ** 0.5) + 1):\n",
    "        if n % i == 0:\n",
    "            return False\n",
    "    return True\n",
    "\n",
    "def filter_prime(numbers):\n",
    "    return [num for num in numbers if is_prime(num)]\n",
    "\n",
    "numbers = list(map(int, input(\"Enter numbers: \").split()))\n",
    "prime_numbers = filter_prime(numbers)\n",
    "print(\"Prime numbers:\", prime_numbers)"
   ]
  },
  {
   "cell_type": "code",
   "execution_count": 96,
   "id": "20660aa4-eeea-4b0e-9471-5776afd94e89",
   "metadata": {},
   "outputs": [
    {
     "name": "stdin",
     "output_type": "stream",
     "text": [
      "Enter a string:  alo\n"
     ]
    },
    {
     "name": "stdout",
     "output_type": "stream",
     "text": [
      "Permutations of the string:\n",
      "alo\n",
      "aol\n",
      "lao\n",
      "loa\n",
      "oal\n",
      "ola\n"
     ]
    }
   ],
   "source": [
    "from itertools import permutations\n",
    "\n",
    "def print_permutations(s):\n",
    "    for perm in permutations(s):\n",
    "        print(''.join(perm))\n",
    "\n",
    "string_input = input(\"Enter a string: \")\n",
    "print(\"Permutations of the string:\")\n",
    "print_permutations(string_input)"
   ]
  },
  {
   "cell_type": "code",
   "execution_count": 90,
   "id": "6840da6c-9ca4-46e4-917e-3ddc3b06aeea",
   "metadata": {},
   "outputs": [
    {
     "name": "stdin",
     "output_type": "stream",
     "text": [
      "Enter a sentence:  Hello my World \n"
     ]
    },
    {
     "name": "stdout",
     "output_type": "stream",
     "text": [
      "Reversed sentence: World my Hello\n"
     ]
    }
   ],
   "source": [
    "def reverse_words(sentence):\n",
    "    return ' '.join(sentence.split()[::-1])\n",
    "\n",
    "sentence_input = input(\"Enter a sentence: \")\n",
    "print(\"Reversed sentence:\", reverse_words(sentence_input))"
   ]
  },
  {
   "cell_type": "code",
   "execution_count": 104,
   "id": "c42bd246-218b-4dd5-9ad7-0745a0d9d356",
   "metadata": {},
   "outputs": [
    {
     "name": "stdout",
     "output_type": "stream",
     "text": [
      "Random List: [2, 2, 1, 4, 3, 2, 3, 2, 1, 4]\n",
      "Contains consecutive 3s: False\n"
     ]
    }
   ],
   "source": [
    "import random\n",
    "\n",
    "def has_33(nums):\n",
    "    for i in range(len(nums) - 1):\n",
    "        if nums[i] == 3 and nums[i + 1] == 3:\n",
    "            return True\n",
    "    return False\n",
    "\n",
    "random_nums = [random.randint(1, 5) for _ in range(10)]\n",
    "print(\"Random List:\", random_nums)\n",
    "print(\"Contains consecutive 3s:\", has_33(random_nums))\n"
   ]
  },
  {
   "cell_type": "code",
   "execution_count": 110,
   "id": "a994ebd2-7772-4f08-bb54-e237eef03d7e",
   "metadata": {},
   "outputs": [
    {
     "name": "stdout",
     "output_type": "stream",
     "text": [
      "Random List: [0, 0, 7, 0, 9, 0, 4, 9, 6, 2]\n",
      "Contains 007 in order: True\n"
     ]
    }
   ],
   "source": [
    "import random\n",
    "\n",
    "def spy_game(nums):\n",
    "    code = [0, 0, 7]\n",
    "    for num in nums:\n",
    "        if num == code[0]:\n",
    "            code.pop(0)\n",
    "        if not code:\n",
    "            return True\n",
    "    return False\n",
    "\n",
    "random_nums = [random.randint(0, 9) for _ in range(10)]\n",
    "print(\"Random List:\", random_nums)\n",
    "print(\"Contains 007 in order:\", spy_game(random_nums))\n"
   ]
  },
  {
   "cell_type": "code",
   "execution_count": 114,
   "id": "8de0c70f-9cda-4449-b1f3-74f9d1c22116",
   "metadata": {},
   "outputs": [
    {
     "name": "stdin",
     "output_type": "stream",
     "text": [
      "Enter the radius:  4\n"
     ]
    },
    {
     "data": {
      "text/plain": [
       "'268.08'"
      ]
     },
     "execution_count": 114,
     "metadata": {},
     "output_type": "execute_result"
    }
   ],
   "source": [
    "import math \n",
    "\n",
    "def volume(r):\n",
    "    V = (4 * math.pi * pow(r, 3)) / 3\n",
    "    return f\"{V:.2f}\"\n",
    "\n",
    "\n",
    "r = int(input(\"Enter the radius: \"))\n",
    "volume(r)"
   ]
  },
  {
   "cell_type": "code",
   "execution_count": 116,
   "id": "73c73ce0-5124-4e06-b18e-b81dd6b09ff2",
   "metadata": {},
   "outputs": [
    {
     "name": "stdout",
     "output_type": "stream",
     "text": [
      "Random List: [0, 3, 0, 5, 4, 7, 1, 2, 2, 2]\n",
      "Unique Elements: [0, 3, 5, 4, 7, 1, 2]\n"
     ]
    }
   ],
   "source": [
    "import random\n",
    "\n",
    "def unique_elements(lst):\n",
    "    unique_list = []\n",
    "    for item in lst:\n",
    "        if item not in unique_list:\n",
    "            unique_list.append(item)\n",
    "    return unique_list\n",
    "\n",
    "random_nums = [random.randint(0, 9) for _ in range(10)]\n",
    "print(\"Random List:\", random_nums)\n",
    "print(\"Unique Elements:\", unique_elements(random_nums))\n"
   ]
  },
  {
   "cell_type": "code",
   "execution_count": 128,
   "id": "bc2eed86-4ad6-41fd-b026-9d7ac6259a59",
   "metadata": {},
   "outputs": [
    {
     "name": "stdin",
     "output_type": "stream",
     "text": [
      "Enter a word or phrase:  hola aloh\n"
     ]
    },
    {
     "name": "stdout",
     "output_type": "stream",
     "text": [
      " \"hola aloh\" is a palindrome\n"
     ]
    }
   ],
   "source": [
    "def is_palindrome(s):\n",
    "    s = ''.join(c.lower() for c in s if c.isalnum())\n",
    "    return s == s[::-1]\n",
    "\n",
    "user_input = input(\"Enter a word or phrase: \")\n",
    "print(f' \"{user_input}\" is a palindrome')\n"
   ]
  },
  {
   "cell_type": "code",
   "execution_count": 130,
   "id": "6738af72-3451-41eb-a28c-7a1d38a989aa",
   "metadata": {},
   "outputs": [
    {
     "name": "stdin",
     "output_type": "stream",
     "text": [
      "Enter a list of integers separated by spaces:  4 2 1\n"
     ]
    },
    {
     "name": "stdout",
     "output_type": "stream",
     "text": [
      "****\n",
      "**\n",
      "*\n"
     ]
    }
   ],
   "source": [
    "def histogram(lst):\n",
    "    for num in lst:\n",
    "        print('*' * num)\n",
    "\n",
    "user_input = input(\"Enter a list of integers separated by spaces: \")\n",
    "numbers = list(map(int, user_input.split()))\n",
    "histogram(numbers)"
   ]
  },
  {
   "cell_type": "code",
   "execution_count": 136,
   "id": "307b84c9-dfd9-4542-8af9-89d9db2f182e",
   "metadata": {},
   "outputs": [
    {
     "name": "stdin",
     "output_type": "stream",
     "text": [
      "Hello! What is your name?  Daureb \n"
     ]
    },
    {
     "name": "stdout",
     "output_type": "stream",
     "text": [
      "\n",
      "Well, Daureb , I am thinking of a number between 1 and 20.\n"
     ]
    },
    {
     "name": "stdin",
     "output_type": "stream",
     "text": [
      "Take a guess:  12\n"
     ]
    },
    {
     "name": "stdout",
     "output_type": "stream",
     "text": [
      "Your guess is too high.\n"
     ]
    },
    {
     "name": "stdin",
     "output_type": "stream",
     "text": [
      "Take a guess:  7\n"
     ]
    },
    {
     "name": "stdout",
     "output_type": "stream",
     "text": [
      "Your guess is too high.\n"
     ]
    },
    {
     "name": "stdin",
     "output_type": "stream",
     "text": [
      "Take a guess:  4\n"
     ]
    },
    {
     "name": "stdout",
     "output_type": "stream",
     "text": [
      "Your guess is too low.\n"
     ]
    },
    {
     "name": "stdin",
     "output_type": "stream",
     "text": [
      "Take a guess:  6\n"
     ]
    },
    {
     "name": "stdout",
     "output_type": "stream",
     "text": [
      "Your guess is too high.\n"
     ]
    },
    {
     "name": "stdin",
     "output_type": "stream",
     "text": [
      "Take a guess:  5\n"
     ]
    },
    {
     "name": "stdout",
     "output_type": "stream",
     "text": [
      "Good job, Daureb ! You guessed my number in 5 guesses!\n"
     ]
    }
   ],
   "source": [
    "import random\n",
    "\n",
    "def guess_the_number():\n",
    "    name = input(\"Hello! What is your name? \")\n",
    "    secret_number = random.randint(1, 20)\n",
    "    print(f\"\\nWell, {name}, I am thinking of a number between 1 and 20.\")\n",
    "    \n",
    "    attempts = 0\n",
    "    while True:\n",
    "        guess = int(input(\"Take a guess: \"))\n",
    "        attempts += 1\n",
    "        \n",
    "        if guess < secret_number:\n",
    "            print(\"Your guess is too low.\")\n",
    "        elif guess > secret_number:\n",
    "            print(\"Your guess is too high.\")\n",
    "        else:\n",
    "            print(f\"Good job, {name}! You guessed my number in {attempts} guesses!\")\n",
    "            break\n",
    "\n",
    "guess_the_number()"
   ]
  },
  {
   "cell_type": "code",
   "execution_count": null,
   "id": "569febec-d1e6-43a0-8a2d-51a78d21e051",
   "metadata": {},
   "outputs": [],
   "source": []
  },
  {
   "cell_type": "code",
   "execution_count": null,
   "id": "4a74a09c-841c-4174-8dc3-d5fcafbd5360",
   "metadata": {},
   "outputs": [],
   "source": []
  }
 ],
 "metadata": {
  "kernelspec": {
   "display_name": "Python [conda env:base] *",
   "language": "python",
   "name": "conda-base-py"
  },
  "language_info": {
   "codemirror_mode": {
    "name": "ipython",
    "version": 3
   },
   "file_extension": ".py",
   "mimetype": "text/x-python",
   "name": "python",
   "nbconvert_exporter": "python",
   "pygments_lexer": "ipython3",
   "version": "3.12.7"
  }
 },
 "nbformat": 4,
 "nbformat_minor": 5
}
