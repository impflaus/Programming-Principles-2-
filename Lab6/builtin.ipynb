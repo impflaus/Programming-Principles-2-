{
 "cells": [
  {
   "cell_type": "code",
   "execution_count": 8,
   "id": "f5088d57-ab72-4bb2-b97f-db6e78b277d7",
   "metadata": {},
   "outputs": [
    {
     "name": "stdout",
     "output_type": "stream",
     "text": [
      "Product of the list: 120\n"
     ]
    }
   ],
   "source": [
    "import math\n",
    "\n",
    "def multiply_list(numbers):\n",
    "    return math.prod(numbers)\n",
    "\n",
    "numbers = [2, 3, 4, 5]\n",
    "result = multiply_list(numbers)\n",
    "print(\"Product of the list:\", result)"
   ]
  },
  {
   "cell_type": "code",
   "execution_count": 10,
   "id": "3ec3a518-f6b7-4075-9dec-208f67e796b2",
   "metadata": {},
   "outputs": [
    {
     "name": "stdout",
     "output_type": "stream",
     "text": [
      "Uppercase letters: 4\n",
      "Lowercase letters: 21\n"
     ]
    }
   ],
   "source": [
    "def count_case_letters(s):\n",
    "    upper_case = sum(1 for char in s if char.isupper())\n",
    "    lower_case = sum(1 for char in s if char.islower())\n",
    "    return upper_case, lower_case\n",
    "\n",
    "string = \"Hello World! Python is Awesome.\"\n",
    "upper, lower = count_case_letters(string)\n",
    "print(\"Uppercase letters:\", upper)\n",
    "print(\"Lowercase letters:\", lower)"
   ]
  },
  {
   "cell_type": "code",
   "execution_count": 18,
   "id": "0004e881-8507-457f-aca4-0ee5079a4564",
   "metadata": {},
   "outputs": [
    {
     "name": "stdin",
     "output_type": "stream",
     "text": [
      "Enter a string:  AllA\n"
     ]
    },
    {
     "name": "stdout",
     "output_type": "stream",
     "text": [
      "The string is a palindrome.\n"
     ]
    }
   ],
   "source": [
    "def is_palindrome(s: str) -> bool:\n",
    "    return s == s[::-1]\n",
    "\n",
    "string = input(\"Enter a string: \")\n",
    "if is_palindrome(string):\n",
    "    print(\"The string is a palindrome.\")\n",
    "else:\n",
    "    print(\"The string is not a palindrome.\")"
   ]
  },
  {
   "cell_type": "code",
   "execution_count": 24,
   "id": "b2ab1e5d-a605-4b22-916b-2c0d11df2cad",
   "metadata": {},
   "outputs": [
    {
     "name": "stdin",
     "output_type": "stream",
     "text": [
      " 25100\n",
      " 2123\n"
     ]
    },
    {
     "name": "stdout",
     "output_type": "stream",
     "text": [
      "Square root of 25100 after 2123 miliseconds is 158.42979517754858\n"
     ]
    }
   ],
   "source": [
    "import time\n",
    "\n",
    "number = int(input())\n",
    "ms = int(input())\n",
    "\n",
    "time.sleep(ms / 1000)\n",
    "\n",
    "print(f\"Square root of {number} after {ms} miliseconds is {number ** 0.5}\")"
   ]
  },
  {
   "cell_type": "code",
   "execution_count": 30,
   "id": "df1d44c4-0b16-4a75-9937-8c54b7d77ea7",
   "metadata": {},
   "outputs": [
    {
     "name": "stdout",
     "output_type": "stream",
     "text": [
      "True\n",
      "False\n"
     ]
    }
   ],
   "source": [
    "def all_elements_true(t: tuple) -> bool:\n",
    "    return all(t)\n",
    "\n",
    "sample_tuple = (True, 1, \"Hello\", 3.14)  \n",
    "print(all_elements_true(sample_tuple)) \n",
    "\n",
    "sample_tuple2 = (True, 0, \"Hello\")  \n",
    "print(all_elements_true(sample_tuple2))"
   ]
  }
 ],
 "metadata": {
  "kernelspec": {
   "display_name": "Python [conda env:base] *",
   "language": "python",
   "name": "conda-base-py"
  },
  "language_info": {
   "codemirror_mode": {
    "name": "ipython",
    "version": 3
   },
   "file_extension": ".py",
   "mimetype": "text/x-python",
   "name": "python",
   "nbconvert_exporter": "python",
   "pygments_lexer": "ipython3",
   "version": "3.12.7"
  }
 },
 "nbformat": 4,
 "nbformat_minor": 5
}
