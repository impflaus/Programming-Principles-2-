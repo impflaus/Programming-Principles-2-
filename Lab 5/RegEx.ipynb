{
 "cells": [
  {
   "cell_type": "code",
   "execution_count": 3,
   "id": "d7846734-5390-4c6b-ba04-e66a306658d0",
   "metadata": {},
   "outputs": [
    {
     "name": "stdout",
     "output_type": "stream",
     "text": [
      "'a': True\n",
      "'ab': True\n",
      "'abb': True\n",
      "'abbb': True\n",
      "'b': False\n",
      "'ba': False\n",
      "'abc': False\n"
     ]
    }
   ],
   "source": [
    "#1 \n",
    "\n",
    "import re\n",
    "\n",
    "def match_string(s):\n",
    "    pattern = r\"ab*\"\n",
    "\n",
    "    if re.fullmatch(pattern, s):\n",
    "        return True\n",
    "    else:\n",
    "        return False\n",
    "\n",
    "test_strings = [\"a\", \"ab\", \"abb\", \"abbb\", \"b\", \"ba\", \"abc\"]\n",
    "for i in test_strings:\n",
    "    print(f\"'{i}': {match_string(i)}\")"
   ]
  },
  {
   "cell_type": "code",
   "execution_count": 5,
   "id": "d28c8675-b7ce-4953-8999-75247556dbd2",
   "metadata": {},
   "outputs": [
    {
     "name": "stdout",
     "output_type": "stream",
     "text": [
      "'a': False\n",
      "'aabbbb': True\n",
      "'abb': True\n",
      "'sabbb': True\n",
      "'b': False\n",
      "'ba': False\n",
      "'abbc': True\n"
     ]
    }
   ],
   "source": [
    "#2\n",
    "\n",
    "import re\n",
    "\n",
    "def match_string(s):\n",
    "    pattern = r\"ab{2,3}\"\n",
    "    if re.search(pattern, s):\n",
    "        return True\n",
    "    else:\n",
    "        return False\n",
    "\n",
    "test_strings = [\"a\", \"aabbbb\", \"abb\", \"sabbb\", \"b\", \"ba\", \"abbc\"]\n",
    "\n",
    "for s in test_strings:\n",
    "    print(f\"'{s}': {match_string(s)}\")"
   ]
  },
  {
   "cell_type": "code",
   "execution_count": 7,
   "id": "8fc852e7-35ed-4316-b9ba-23ad684ac4e5",
   "metadata": {},
   "outputs": [
    {
     "name": "stdout",
     "output_type": "stream",
     "text": [
      "'arbhlwfge_dfknvser': True\n",
      "'awduibdcvA_sjrb': False\n",
      "'auierf_Auierv': False\n",
      "'Ayvjkasdc_Aiufv': False\n",
      "'uerbher9_ae4rgas': False\n",
      "'erfaer': False\n"
     ]
    }
   ],
   "source": [
    "#3\n",
    "\n",
    "import re\n",
    "\n",
    "def check(s):\n",
    "    pattern = r\"[a-z]+_[a-z]+\"\n",
    "    if re.search(pattern, s):\n",
    "        return True\n",
    "    else:\n",
    "        return False\n",
    "\n",
    "test_strings = [\"arbhlwfge_dfknvser\", \"awduibdcvA_sjrb\", \"auierf_Auierv\", \"Ayvjkasdc_Aiufv\", \"uerbher9_ae4rgas\", \"erfaer\"]\n",
    "\n",
    "for s in test_strings:\n",
    "    print(f\"'{s}': {check(s)}\")"
   ]
  },
  {
   "cell_type": "code",
   "execution_count": 9,
   "id": "736f356f-c2e7-4f3c-abe9-e05a6ef5d41d",
   "metadata": {},
   "outputs": [
    {
     "name": "stdout",
     "output_type": "stream",
     "text": [
      "'arbhlwfge_dfknvser': False\n",
      "'awduibdcvA_sjrb': False\n",
      "'auierf_Auierv': True\n",
      "'Ayvjkasdc_Aiufv': True\n",
      "'uerbher9_ae4rgas': False\n",
      "'erfaer': False\n"
     ]
    }
   ],
   "source": [
    "#4\n",
    "\n",
    "import re\n",
    "\n",
    "def check(s):\n",
    "    pattern = r\"[A-Z][a-z]+\"\n",
    "    if re.search(pattern, s):\n",
    "        return True\n",
    "    else:\n",
    "        return False\n",
    "\n",
    "test_strings = [\"arbhlwfge_dfknvser\", \"awduibdcvA_sjrb\", \"auierf_Auierv\", \"Ayvjkasdc_Aiufv\", \"uerbher9_ae4rgas\", \"erfaer\"]\n",
    "\n",
    "for s in test_strings:\n",
    "    print(f\"'{s}': {check(s)}\")"
   ]
  },
  {
   "cell_type": "code",
   "execution_count": 11,
   "id": "54352313-9505-46d9-81ca-90bcadf17a1a",
   "metadata": {},
   "outputs": [
    {
     "name": "stdout",
     "output_type": "stream",
     "text": [
      "'asdfcastbdf': False\n",
      "'fgryfatcyjb': True\n"
     ]
    }
   ],
   "source": [
    "#5\n",
    "\n",
    "import re\n",
    "\n",
    "def check(s):\n",
    "    pattern = r\"a[a-z]+b$\"\n",
    "    if re.search(pattern, s):\n",
    "        return True\n",
    "    else:\n",
    "        return False\n",
    "\n",
    "test_strings = [\"asdfcastbdf\", \"fgryfatcyjb\"]\n",
    "\n",
    "for s in test_strings:\n",
    "    print(f\"'{s}': {check(s)}\")"
   ]
  },
  {
   "cell_type": "code",
   "execution_count": 13,
   "id": "f36db6eb-ea87-460e-8312-3845e1bfdcc1",
   "metadata": {},
   "outputs": [
    {
     "name": "stdout",
     "output_type": "stream",
     "text": [
      "John's:email:is:john:doe@example:com:Hello:John\n"
     ]
    }
   ],
   "source": [
    "#6\n",
    "\n",
    "import re\n",
    "\n",
    "text_to_match = \"\"\"John's email is john.doe@example.com Hello John\"\"\"\n",
    "\n",
    "pattern = r\"[ ,.]\"\n",
    "result = re.sub(pattern, \":\" ,text_to_match) \n",
    "print(result)"
   ]
  },
  {
   "cell_type": "code",
   "execution_count": 15,
   "id": "e7ede766-4b7c-4bc8-8b71-1ca3fb949e25",
   "metadata": {},
   "outputs": [
    {
     "name": "stdin",
     "output_type": "stream",
     "text": [
      " someLongVariableName\n"
     ]
    },
    {
     "name": "stdout",
     "output_type": "stream",
     "text": [
      "somelongvariablename\n"
     ]
    }
   ],
   "source": [
    "#7\n",
    "\n",
    "import re\n",
    "\n",
    "def reg():\n",
    "    user_input = input()\n",
    "    new = re.sub(r'[_]+', ' ', user_input)\n",
    "    spl = new.split()\n",
    "    if not spl:\n",
    "        print(\"\")\n",
    "        return\n",
    "    new_verb = spl[0].lower() + ''.join(word.capitalize() for word in spl[1:])\n",
    "    print(new_verb)\n",
    "\n",
    "reg()"
   ]
  },
  {
   "cell_type": "code",
   "execution_count": 21,
   "id": "818e6d96-5519-4a0d-9b0f-6392b97089eb",
   "metadata": {},
   "outputs": [
    {
     "name": "stdin",
     "output_type": "stream",
     "text": [
      "  Pascal case\n"
     ]
    },
    {
     "name": "stdout",
     "output_type": "stream",
     "text": [
      "[' ', 'Pascal case']\n"
     ]
    }
   ],
   "source": [
    "#8\n",
    "\n",
    "import re\n",
    "def reg():\n",
    "    user_input = input()\n",
    "    parts = re.split(r'(?=[A-Z])', user_input)\n",
    "    print(parts)\n",
    "reg()"
   ]
  },
  {
   "cell_type": "code",
   "execution_count": 23,
   "id": "5549854b-4e22-4242-8a1b-9bc20daef5a6",
   "metadata": {},
   "outputs": [
    {
     "name": "stdin",
     "output_type": "stream",
     "text": [
      " myVariable name \n"
     ]
    },
    {
     "name": "stdout",
     "output_type": "stream",
     "text": [
      "myvariableName\n"
     ]
    }
   ],
   "source": [
    "#9\n",
    "\n",
    "import re\n",
    "\n",
    "def reg():\n",
    "    user_input = input()\n",
    "    spl = user_input.split()\n",
    "    if not spl:\n",
    "        print(\"\")\n",
    "        return\n",
    "    new_verb = spl[0].lower() + ''.join(word.capitalize() for word in spl[1:])\n",
    "    print(new_verb)\n",
    "\n",
    "reg()"
   ]
  },
  {
   "cell_type": "code",
   "execution_count": 29,
   "id": "2e6f36b5-3762-4174-b78e-f0640a0fbb2c",
   "metadata": {},
   "outputs": [
    {
     "name": "stdin",
     "output_type": "stream",
     "text": [
      "Введите camelCase строку:  PASCAL_CASE\n"
     ]
    },
    {
     "name": "stdout",
     "output_type": "stream",
     "text": [
      "p_a_s_c_a_l__c_a_s_e\n"
     ]
    }
   ],
   "source": [
    "#10\n",
    "\n",
    "import re\n",
    "\n",
    "def reg():\n",
    "    user_input = input(\"Введите camelCase строку: \")\n",
    "    snake = re.sub(r'(?<!^)(?=[A-Z])', '_', user_input).lower()\n",
    "    print(snake)\n",
    "\n",
    "reg()"
   ]
  },
  {
   "cell_type": "code",
   "execution_count": null,
   "id": "e41ea722-0198-4a9e-a10b-a41b7dacf388",
   "metadata": {},
   "outputs": [],
   "source": []
  }
 ],
 "metadata": {
  "kernelspec": {
   "display_name": "Python [conda env:base] *",
   "language": "python",
   "name": "conda-base-py"
  },
  "language_info": {
   "codemirror_mode": {
    "name": "ipython",
    "version": 3
   },
   "file_extension": ".py",
   "mimetype": "text/x-python",
   "name": "python",
   "nbconvert_exporter": "python",
   "pygments_lexer": "ipython3",
   "version": "3.12.7"
  }
 },
 "nbformat": 4,
 "nbformat_minor": 5
}
