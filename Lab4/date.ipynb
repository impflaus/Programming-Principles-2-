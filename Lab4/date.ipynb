{
 "cells": [
  {
   "cell_type": "code",
   "execution_count": 4,
   "id": "e8b180d5-09f8-4f4d-ad32-75bb7e20827b",
   "metadata": {},
   "outputs": [
    {
     "name": "stdout",
     "output_type": "stream",
     "text": [
      "2025-02-08 11:11:44.535819\n"
     ]
    }
   ],
   "source": [
    "#1\n",
    "\n",
    "from datetime import timedelta, datetime\n",
    "\n",
    "today=datetime.now()\n",
    "fivedays=timedelta(days=5)\n",
    "print(today-fivedays)"
   ]
  },
  {
   "cell_type": "code",
   "execution_count": 6,
   "id": "13c69902-f000-46e1-bcaf-2fbd5ca2715e",
   "metadata": {},
   "outputs": [
    {
     "name": "stdout",
     "output_type": "stream",
     "text": [
      "Yesterday:2025-02-12 11:11:57.943276\n",
      "Today:2025-02-13 11:11:57.943276\n",
      "Tomorrow2025-02-14 11:11:57.943276\n"
     ]
    }
   ],
   "source": [
    "#2 \n",
    "\n",
    "from datetime import timedelta,datetime\n",
    "\n",
    "today=datetime.today()\n",
    "yesterday=today-timedelta(1)\n",
    "tomorrow=today+timedelta(1)\n",
    "print(f\"Yesterday:{yesterday}\")\n",
    "print(f\"Today:{today}\")\n",
    "print(f\"Tomorrow{tomorrow}\")"
   ]
  },
  {
   "cell_type": "code",
   "execution_count": 8,
   "id": "83911543-916e-403c-bc8d-d3b5e69719bb",
   "metadata": {},
   "outputs": [
    {
     "name": "stdout",
     "output_type": "stream",
     "text": [
      "Datetime without microseconds: 2025-02-13 11:12:24\n"
     ]
    }
   ],
   "source": [
    "#3\n",
    "\n",
    "from datetime import datetime\n",
    "\n",
    "\n",
    "now = datetime.now().replace(microsecond=0)\n",
    "print(\"Datetime without microseconds:\", now)"
   ]
  },
  {
   "cell_type": "code",
   "execution_count": 12,
   "id": "aa2da955-5c3b-4133-b937-4ba2077e37e3",
   "metadata": {},
   "outputs": [
    {
     "name": "stdout",
     "output_type": "stream",
     "text": [
      "Difference between 2025-02-01 12:00:00 and 2025-02-10 14:30:00 is 786600.0 seconds\n"
     ]
    }
   ],
   "source": [
    "#4\n",
    "\n",
    "from datetime import datetime\n",
    "\n",
    "date1 = datetime(2025, 2, 1, 12, 0, 0)\n",
    "date2 = datetime(2025, 2, 10, 14, 30, 0)\n",
    "difference = (date2 - date1).total_seconds()\n",
    "print(f\"Difference between {date1} and {date2} is {difference} seconds\")"
   ]
  }
 ],
 "metadata": {
  "kernelspec": {
   "display_name": "Python [conda env:base] *",
   "language": "python",
   "name": "conda-base-py"
  },
  "language_info": {
   "codemirror_mode": {
    "name": "ipython",
    "version": 3
   },
   "file_extension": ".py",
   "mimetype": "text/x-python",
   "name": "python",
   "nbconvert_exporter": "python",
   "pygments_lexer": "ipython3",
   "version": "3.12.7"
  }
 },
 "nbformat": 4,
 "nbformat_minor": 5
}
