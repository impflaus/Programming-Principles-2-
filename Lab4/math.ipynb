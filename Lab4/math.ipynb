{
 "cells": [
  {
   "cell_type": "code",
   "execution_count": 8,
   "id": "2ab3f30a-0891-4d08-8441-05149929ba3d",
   "metadata": {},
   "outputs": [
    {
     "name": "stdin",
     "output_type": "stream",
     "text": [
      "Enter the degree:  15\n"
     ]
    },
    {
     "name": "stdout",
     "output_type": "stream",
     "text": [
      "Output radian: 0.261799\n"
     ]
    }
   ],
   "source": [
    "#1\n",
    "\n",
    "import math\n",
    "\n",
    "degree = int(input(\"Enter the degree: \"))\n",
    "rad = (degree * math.pi) / 180\n",
    "print(f\"Output radian: {rad:.6f}\")"
   ]
  },
  {
   "cell_type": "code",
   "execution_count": 12,
   "id": "33aa940c-e75a-4d39-b927-7394181a45d9",
   "metadata": {},
   "outputs": [
    {
     "name": "stdin",
     "output_type": "stream",
     "text": [
      "Height:  5\n",
      "Base, first value:  12\n",
      "Base, second value:  5\n"
     ]
    },
    {
     "name": "stdout",
     "output_type": "stream",
     "text": [
      "Output Area 42.5\n"
     ]
    }
   ],
   "source": [
    "#2\n",
    "\n",
    "h = int(input(\"Height: \"))\n",
    "a = int(input(\"Base, first value: \"))\n",
    "b = int(input(\"Base, second value: \"))\n",
    "\n",
    "A = (a + b ) / 2*h\n",
    "print(f\"Output Area {A:.1f}\")"
   ]
  },
  {
   "cell_type": "code",
   "execution_count": 30,
   "id": "545f1308-c0d9-4125-84d3-f174162c5889",
   "metadata": {},
   "outputs": [
    {
     "name": "stdin",
     "output_type": "stream",
     "text": [
      "Input number of sides:  4\n",
      "Input the length of a side:  25\n"
     ]
    },
    {
     "name": "stdout",
     "output_type": "stream",
     "text": [
      "Output Area 625.0\n"
     ]
    }
   ],
   "source": [
    "#3\n",
    "\n",
    "import math\n",
    "\n",
    "n = int(input(\"Input number of sides: \"))\n",
    "l = int(input(\"Input the length of a side: \"))\n",
    "\n",
    "A = (n * l**2) / (4 * math.tan(math.pi / n))\n",
    "\n",
    "print(f\"Output Area {A:.1f}\")"
   ]
  },
  {
   "cell_type": "code",
   "execution_count": 32,
   "id": "539e243c-c613-419b-b6f0-b0a49c376913",
   "metadata": {},
   "outputs": [
    {
     "name": "stdin",
     "output_type": "stream",
     "text": [
      "Lenght of base:  5\n",
      "Height of parallelogram:  6\n"
     ]
    },
    {
     "name": "stdout",
     "output_type": "stream",
     "text": [
      "Output Area 30.0\n"
     ]
    }
   ],
   "source": [
    "#4\n",
    "\n",
    "a = int(input(\"Lenght of base: \"))\n",
    "b = int(input(\"Height of parallelogram: \"))\n",
    "A = a * b\n",
    "print(f\"Output Area {A:.1f}\")"
   ]
  }
 ],
 "metadata": {
  "kernelspec": {
   "display_name": "Python [conda env:base] *",
   "language": "python",
   "name": "conda-base-py"
  },
  "language_info": {
   "codemirror_mode": {
    "name": "ipython",
    "version": 3
   },
   "file_extension": ".py",
   "mimetype": "text/x-python",
   "name": "python",
   "nbconvert_exporter": "python",
   "pygments_lexer": "ipython3",
   "version": "3.12.7"
  }
 },
 "nbformat": 4,
 "nbformat_minor": 5
}
