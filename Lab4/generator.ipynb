{
 "cells": [
  {
   "cell_type": "code",
   "execution_count": 2,
   "id": "911e8f10-8a81-4c2e-9002-e80e0f024411",
   "metadata": {},
   "outputs": [
    {
     "name": "stdin",
     "output_type": "stream",
     "text": [
      "Enter N:  5\n"
     ]
    },
    {
     "name": "stdout",
     "output_type": "stream",
     "text": [
      "1\n",
      "4\n",
      "9\n",
      "16\n",
      "25\n"
     ]
    }
   ],
   "source": [
    "#1\n",
    "\n",
    "def getSquares(n):\n",
    "    for i in range(1, n + 1):\n",
    "        yield pow(i, 2)\n",
    "\n",
    "n = int(input(\"Enter N: \"))\n",
    "for i in getSquares(n):\n",
    "    print(i)"
   ]
  },
  {
   "cell_type": "code",
   "execution_count": 4,
   "id": "bc2b2644-3f11-4616-af59-9105aaf7a139",
   "metadata": {},
   "outputs": [
    {
     "name": "stdin",
     "output_type": "stream",
     "text": [
      "Enter n:  10\n"
     ]
    },
    {
     "name": "stdout",
     "output_type": "stream",
     "text": [
      "0, 2, 4, 6, 8, 10\n"
     ]
    }
   ],
   "source": [
    "#2\n",
    "\n",
    "def getEven(n):\n",
    "    for i in range(0, n + 1):\n",
    "        if i % 2 == 0:\n",
    "            yield i\n",
    "        continue\n",
    "\n",
    "\n",
    "n = int(input(\"Enter n: \"))\n",
    "for san in getEven(n):\n",
    "    if san == n or san - 1 == n:\n",
    "        print(san)\n",
    "    else:\n",
    "        print(san, end=\", \")"
   ]
  },
  {
   "cell_type": "code",
   "execution_count": 10,
   "id": "5583b776-cebf-4906-ab3b-8bad53a0a295",
   "metadata": {},
   "outputs": [
    {
     "name": "stdin",
     "output_type": "stream",
     "text": [
      "Enter n:  50\n"
     ]
    },
    {
     "name": "stdout",
     "output_type": "stream",
     "text": [
      "0\n",
      "12\n",
      "24\n",
      "36\n",
      "48\n"
     ]
    }
   ],
   "source": [
    "#3 \n",
    "\n",
    "def getDiv3_and_4(n):\n",
    "    for i in range(n + 1):\n",
    "        if i % 3 == 0 and i % 4 == 0:\n",
    "            yield i\n",
    "        continue\n",
    "\n",
    "\n",
    "n = int(input(\"Enter n: \"))\n",
    "for i in getDiv3_and_4(n):\n",
    "    print(i)"
   ]
  },
  {
   "cell_type": "code",
   "execution_count": 16,
   "id": "9fbc3923-3c7e-4df8-b6cb-2b7f60bbbbd9",
   "metadata": {},
   "outputs": [
    {
     "name": "stdin",
     "output_type": "stream",
     "text": [
      " 3 4\n"
     ]
    },
    {
     "name": "stdout",
     "output_type": "stream",
     "text": [
      "9\n",
      "16\n"
     ]
    }
   ],
   "source": [
    "#4\n",
    "\n",
    "def squares(a, b):\n",
    "    for i in range(a, b \n",
    "                   + 1):\n",
    "        yield pow(i, 2)\n",
    "\n",
    "\n",
    "a, b = map(int, input().split())\n",
    "for i in squares(a, b):\n",
    "    print(i)"
   ]
  },
  {
   "cell_type": "code",
   "execution_count": 18,
   "id": "caa5a82d-97ae-44ec-8307-90a44aa48606",
   "metadata": {},
   "outputs": [
    {
     "name": "stdin",
     "output_type": "stream",
     "text": [
      "Enter n:  13\n"
     ]
    },
    {
     "name": "stdout",
     "output_type": "stream",
     "text": [
      "13\n",
      "12\n",
      "11\n",
      "10\n",
      "9\n",
      "8\n",
      "7\n",
      "6\n",
      "5\n",
      "4\n",
      "3\n",
      "2\n",
      "1\n",
      "0\n"
     ]
    }
   ],
   "source": [
    "#5\n",
    "\n",
    "def getNumbers(n):\n",
    "    for i in range(n, -1, -1):\n",
    "        yield i\n",
    "\n",
    "\n",
    "n = int(input(\"Enter n: \"))\n",
    "for i in getNumbers(n):\n",
    "    print(i)"
   ]
  },
  {
   "cell_type": "code",
   "execution_count": null,
   "id": "a2987304-3591-4005-ab22-7876c5b714d1",
   "metadata": {},
   "outputs": [],
   "source": []
  }
 ],
 "metadata": {
  "kernelspec": {
   "display_name": "Python [conda env:base] *",
   "language": "python",
   "name": "conda-base-py"
  },
  "language_info": {
   "codemirror_mode": {
    "name": "ipython",
    "version": 3
   },
   "file_extension": ".py",
   "mimetype": "text/x-python",
   "name": "python",
   "nbconvert_exporter": "python",
   "pygments_lexer": "ipython3",
   "version": "3.12.7"
  }
 },
 "nbformat": 4,
 "nbformat_minor": 5
}
